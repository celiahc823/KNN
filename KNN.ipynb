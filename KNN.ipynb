{
 "cells": [
  {
   "cell_type": "code",
   "execution_count": 28,
   "metadata": {},
   "outputs": [],
   "source": [
    "import numpy as np\n",
    "import pandas as pd\n",
    "import matplotlib.pyplot as plt\n",
    "import seaborn as sns"
   ]
  },
  {
   "cell_type": "code",
   "execution_count": 29,
   "metadata": {},
   "outputs": [
    {
     "data": {
      "text/html": [
       "<div>\n",
       "<style scoped>\n",
       "    .dataframe tbody tr th:only-of-type {\n",
       "        vertical-align: middle;\n",
       "    }\n",
       "\n",
       "    .dataframe tbody tr th {\n",
       "        vertical-align: top;\n",
       "    }\n",
       "\n",
       "    .dataframe thead th {\n",
       "        text-align: right;\n",
       "    }\n",
       "</style>\n",
       "<table border=\"1\" class=\"dataframe\">\n",
       "  <thead>\n",
       "    <tr style=\"text-align: right;\">\n",
       "      <th></th>\n",
       "      <th>Age</th>\n",
       "      <th>Sex</th>\n",
       "      <th>BP</th>\n",
       "      <th>Cholesterol</th>\n",
       "      <th>Na_to_K</th>\n",
       "      <th>Drug</th>\n",
       "    </tr>\n",
       "  </thead>\n",
       "  <tbody>\n",
       "    <tr>\n",
       "      <th>0</th>\n",
       "      <td>23</td>\n",
       "      <td>F</td>\n",
       "      <td>HIGH</td>\n",
       "      <td>HIGH</td>\n",
       "      <td>25.355</td>\n",
       "      <td>drugY</td>\n",
       "    </tr>\n",
       "    <tr>\n",
       "      <th>1</th>\n",
       "      <td>47</td>\n",
       "      <td>M</td>\n",
       "      <td>LOW</td>\n",
       "      <td>HIGH</td>\n",
       "      <td>13.093</td>\n",
       "      <td>drugC</td>\n",
       "    </tr>\n",
       "    <tr>\n",
       "      <th>2</th>\n",
       "      <td>47</td>\n",
       "      <td>M</td>\n",
       "      <td>LOW</td>\n",
       "      <td>HIGH</td>\n",
       "      <td>10.114</td>\n",
       "      <td>drugC</td>\n",
       "    </tr>\n",
       "    <tr>\n",
       "      <th>3</th>\n",
       "      <td>28</td>\n",
       "      <td>F</td>\n",
       "      <td>NORMAL</td>\n",
       "      <td>HIGH</td>\n",
       "      <td>7.798</td>\n",
       "      <td>drugX</td>\n",
       "    </tr>\n",
       "    <tr>\n",
       "      <th>4</th>\n",
       "      <td>61</td>\n",
       "      <td>F</td>\n",
       "      <td>LOW</td>\n",
       "      <td>HIGH</td>\n",
       "      <td>18.043</td>\n",
       "      <td>drugY</td>\n",
       "    </tr>\n",
       "    <tr>\n",
       "      <th>5</th>\n",
       "      <td>22</td>\n",
       "      <td>F</td>\n",
       "      <td>NORMAL</td>\n",
       "      <td>HIGH</td>\n",
       "      <td>8.607</td>\n",
       "      <td>drugX</td>\n",
       "    </tr>\n",
       "    <tr>\n",
       "      <th>6</th>\n",
       "      <td>49</td>\n",
       "      <td>F</td>\n",
       "      <td>NORMAL</td>\n",
       "      <td>HIGH</td>\n",
       "      <td>16.275</td>\n",
       "      <td>drugY</td>\n",
       "    </tr>\n",
       "    <tr>\n",
       "      <th>7</th>\n",
       "      <td>41</td>\n",
       "      <td>M</td>\n",
       "      <td>LOW</td>\n",
       "      <td>HIGH</td>\n",
       "      <td>11.037</td>\n",
       "      <td>drugC</td>\n",
       "    </tr>\n",
       "    <tr>\n",
       "      <th>8</th>\n",
       "      <td>60</td>\n",
       "      <td>M</td>\n",
       "      <td>NORMAL</td>\n",
       "      <td>HIGH</td>\n",
       "      <td>15.171</td>\n",
       "      <td>drugY</td>\n",
       "    </tr>\n",
       "    <tr>\n",
       "      <th>9</th>\n",
       "      <td>43</td>\n",
       "      <td>M</td>\n",
       "      <td>LOW</td>\n",
       "      <td>NORMAL</td>\n",
       "      <td>19.368</td>\n",
       "      <td>drugY</td>\n",
       "    </tr>\n",
       "  </tbody>\n",
       "</table>\n",
       "</div>"
      ],
      "text/plain": [
       "   Age Sex      BP Cholesterol  Na_to_K   Drug\n",
       "0   23   F    HIGH        HIGH   25.355  drugY\n",
       "1   47   M     LOW        HIGH   13.093  drugC\n",
       "2   47   M     LOW        HIGH   10.114  drugC\n",
       "3   28   F  NORMAL        HIGH    7.798  drugX\n",
       "4   61   F     LOW        HIGH   18.043  drugY\n",
       "5   22   F  NORMAL        HIGH    8.607  drugX\n",
       "6   49   F  NORMAL        HIGH   16.275  drugY\n",
       "7   41   M     LOW        HIGH   11.037  drugC\n",
       "8   60   M  NORMAL        HIGH   15.171  drugY\n",
       "9   43   M     LOW      NORMAL   19.368  drugY"
      ]
     },
     "execution_count": 29,
     "metadata": {},
     "output_type": "execute_result"
    }
   ],
   "source": [
    "data = pd.read_csv('drug200.csv')\n",
    "data.head(10)"
   ]
  },
  {
   "cell_type": "code",
   "execution_count": 30,
   "metadata": {},
   "outputs": [
    {
     "data": {
      "text/plain": [
       "0"
      ]
     },
     "execution_count": 30,
     "metadata": {},
     "output_type": "execute_result"
    }
   ],
   "source": [
    "data.duplicated().sum()"
   ]
  },
  {
   "cell_type": "code",
   "execution_count": 31,
   "metadata": {},
   "outputs": [
    {
     "data": {
      "text/plain": [
       "Age            0\n",
       "Sex            0\n",
       "BP             0\n",
       "Cholesterol    0\n",
       "Na_to_K        0\n",
       "Drug           0\n",
       "dtype: int64"
      ]
     },
     "execution_count": 31,
     "metadata": {},
     "output_type": "execute_result"
    }
   ],
   "source": [
    "data.isnull().sum()"
   ]
  },
  {
   "cell_type": "code",
   "execution_count": 32,
   "metadata": {},
   "outputs": [
    {
     "data": {
      "text/plain": [
       "Age             57\n",
       "Sex              2\n",
       "BP               3\n",
       "Cholesterol      2\n",
       "Na_to_K        198\n",
       "Drug             5\n",
       "dtype: int64"
      ]
     },
     "execution_count": 32,
     "metadata": {},
     "output_type": "execute_result"
    }
   ],
   "source": [
    "data.nunique()"
   ]
  },
  {
   "cell_type": "code",
   "execution_count": 33,
   "metadata": {},
   "outputs": [
    {
     "name": "stdout",
     "output_type": "stream",
     "text": [
      "Blood Pressure  : ['HIGH' 'LOW' 'NORMAL']\n",
      "Cholesterol     :  ['HIGH' 'NORMAL']\n",
      "Drugs           :  ['drugY' 'drugC' 'drugX' 'drugA' 'drugB']\n"
     ]
    }
   ],
   "source": [
    "print('Blood Pressure  :', data['BP'].unique())\n",
    "print('Cholesterol     : ', data['Cholesterol'].unique())\n",
    "print('Drugs           : ', data['Drug'].unique())"
   ]
  },
  {
   "cell_type": "code",
   "execution_count": 34,
   "metadata": {},
   "outputs": [],
   "source": [
    "data['Sex']=data['Sex'].map({'F':1,'M':0}).astype(int)\n",
    "data['BP']=data['BP'].map({'LOW':0,'NORMAL':1,'HIGH':2}).astype(int)\n",
    "data['Cholesterol']=data['Cholesterol'].map({'HIGH':1,'NORMAL':0}).astype(int)"
   ]
  },
  {
   "cell_type": "code",
   "execution_count": 35,
   "metadata": {},
   "outputs": [],
   "source": [
    "cols = ['Age','Sex','BP','Cholesterol','Na_to_K']\n",
    "X = data[cols].values\n",
    "Y = data['Drug'].values"
   ]
  },
  {
   "cell_type": "code",
   "execution_count": 36,
   "metadata": {},
   "outputs": [
    {
     "data": {
      "text/plain": [
       "array([[23.   ,  1.   ,  2.   ,  1.   , 25.355],\n",
       "       [47.   ,  0.   ,  0.   ,  1.   , 13.093],\n",
       "       [47.   ,  0.   ,  0.   ,  1.   , 10.114],\n",
       "       [28.   ,  1.   ,  1.   ,  1.   ,  7.798],\n",
       "       [61.   ,  1.   ,  0.   ,  1.   , 18.043],\n",
       "       [22.   ,  1.   ,  1.   ,  1.   ,  8.607],\n",
       "       [49.   ,  1.   ,  1.   ,  1.   , 16.275],\n",
       "       [41.   ,  0.   ,  0.   ,  1.   , 11.037],\n",
       "       [60.   ,  0.   ,  1.   ,  1.   , 15.171],\n",
       "       [43.   ,  0.   ,  0.   ,  0.   , 19.368],\n",
       "       [47.   ,  1.   ,  0.   ,  1.   , 11.767],\n",
       "       [34.   ,  1.   ,  2.   ,  0.   , 19.199],\n",
       "       [43.   ,  0.   ,  0.   ,  1.   , 15.376],\n",
       "       [74.   ,  1.   ,  0.   ,  1.   , 20.942],\n",
       "       [50.   ,  1.   ,  1.   ,  1.   , 12.703],\n",
       "       [16.   ,  1.   ,  2.   ,  0.   , 15.516],\n",
       "       [69.   ,  0.   ,  0.   ,  0.   , 11.455],\n",
       "       [43.   ,  0.   ,  2.   ,  1.   , 13.972],\n",
       "       [23.   ,  0.   ,  0.   ,  1.   ,  7.298],\n",
       "       [32.   ,  1.   ,  2.   ,  0.   , 25.974],\n",
       "       [57.   ,  0.   ,  0.   ,  0.   , 19.128],\n",
       "       [63.   ,  0.   ,  1.   ,  1.   , 25.917],\n",
       "       [47.   ,  0.   ,  0.   ,  0.   , 30.568],\n",
       "       [48.   ,  1.   ,  0.   ,  1.   , 15.036],\n",
       "       [33.   ,  1.   ,  0.   ,  1.   , 33.486],\n",
       "       [28.   ,  1.   ,  2.   ,  0.   , 18.809],\n",
       "       [31.   ,  0.   ,  2.   ,  1.   , 30.366],\n",
       "       [49.   ,  1.   ,  1.   ,  0.   ,  9.381],\n",
       "       [39.   ,  1.   ,  0.   ,  0.   , 22.697],\n",
       "       [45.   ,  0.   ,  0.   ,  1.   , 17.951],\n",
       "       [18.   ,  1.   ,  1.   ,  0.   ,  8.75 ],\n",
       "       [74.   ,  0.   ,  2.   ,  1.   ,  9.567],\n",
       "       [49.   ,  0.   ,  0.   ,  0.   , 11.014],\n",
       "       [65.   ,  1.   ,  2.   ,  0.   , 31.876],\n",
       "       [53.   ,  0.   ,  1.   ,  1.   , 14.133],\n",
       "       [46.   ,  0.   ,  1.   ,  0.   ,  7.285],\n",
       "       [32.   ,  0.   ,  2.   ,  0.   ,  9.445],\n",
       "       [39.   ,  0.   ,  0.   ,  0.   , 13.938],\n",
       "       [39.   ,  1.   ,  1.   ,  0.   ,  9.709],\n",
       "       [15.   ,  0.   ,  1.   ,  1.   ,  9.084],\n",
       "       [73.   ,  1.   ,  1.   ,  1.   , 19.221],\n",
       "       [58.   ,  1.   ,  2.   ,  0.   , 14.239],\n",
       "       [50.   ,  0.   ,  1.   ,  0.   , 15.79 ],\n",
       "       [23.   ,  0.   ,  1.   ,  1.   , 12.26 ],\n",
       "       [50.   ,  1.   ,  1.   ,  0.   , 12.295],\n",
       "       [66.   ,  1.   ,  1.   ,  0.   ,  8.107],\n",
       "       [37.   ,  1.   ,  2.   ,  1.   , 13.091],\n",
       "       [68.   ,  0.   ,  0.   ,  1.   , 10.291],\n",
       "       [23.   ,  0.   ,  1.   ,  1.   , 31.686],\n",
       "       [28.   ,  1.   ,  0.   ,  1.   , 19.796],\n",
       "       [58.   ,  1.   ,  2.   ,  1.   , 19.416],\n",
       "       [67.   ,  0.   ,  1.   ,  0.   , 10.898],\n",
       "       [62.   ,  0.   ,  0.   ,  0.   , 27.183],\n",
       "       [24.   ,  1.   ,  2.   ,  0.   , 18.457],\n",
       "       [68.   ,  1.   ,  2.   ,  0.   , 10.189],\n",
       "       [26.   ,  1.   ,  0.   ,  1.   , 14.16 ],\n",
       "       [65.   ,  0.   ,  2.   ,  0.   , 11.34 ],\n",
       "       [40.   ,  0.   ,  2.   ,  1.   , 27.826],\n",
       "       [60.   ,  0.   ,  1.   ,  0.   , 10.091],\n",
       "       [34.   ,  0.   ,  2.   ,  1.   , 18.703],\n",
       "       [38.   ,  1.   ,  0.   ,  0.   , 29.875],\n",
       "       [24.   ,  0.   ,  2.   ,  0.   ,  9.475],\n",
       "       [67.   ,  0.   ,  0.   ,  0.   , 20.693],\n",
       "       [45.   ,  0.   ,  0.   ,  0.   ,  8.37 ],\n",
       "       [60.   ,  1.   ,  2.   ,  1.   , 13.303],\n",
       "       [68.   ,  1.   ,  1.   ,  0.   , 27.05 ],\n",
       "       [29.   ,  0.   ,  2.   ,  1.   , 12.856],\n",
       "       [17.   ,  0.   ,  1.   ,  0.   , 10.832],\n",
       "       [54.   ,  0.   ,  1.   ,  1.   , 24.658],\n",
       "       [18.   ,  1.   ,  2.   ,  0.   , 24.276],\n",
       "       [70.   ,  0.   ,  2.   ,  1.   , 13.967],\n",
       "       [28.   ,  1.   ,  1.   ,  1.   , 19.675],\n",
       "       [24.   ,  1.   ,  1.   ,  1.   , 10.605],\n",
       "       [41.   ,  1.   ,  1.   ,  0.   , 22.905],\n",
       "       [31.   ,  0.   ,  2.   ,  0.   , 17.069],\n",
       "       [26.   ,  0.   ,  0.   ,  0.   , 20.909],\n",
       "       [36.   ,  1.   ,  2.   ,  1.   , 11.198],\n",
       "       [26.   ,  1.   ,  2.   ,  0.   , 19.161],\n",
       "       [19.   ,  1.   ,  2.   ,  1.   , 13.313],\n",
       "       [32.   ,  1.   ,  0.   ,  0.   , 10.84 ],\n",
       "       [60.   ,  0.   ,  2.   ,  1.   , 13.934],\n",
       "       [64.   ,  0.   ,  1.   ,  1.   ,  7.761],\n",
       "       [32.   ,  1.   ,  0.   ,  1.   ,  9.712],\n",
       "       [38.   ,  1.   ,  2.   ,  0.   , 11.326],\n",
       "       [47.   ,  1.   ,  0.   ,  1.   , 10.067],\n",
       "       [59.   ,  0.   ,  2.   ,  1.   , 13.935],\n",
       "       [51.   ,  1.   ,  1.   ,  1.   , 13.597],\n",
       "       [69.   ,  0.   ,  0.   ,  1.   , 15.478],\n",
       "       [37.   ,  1.   ,  2.   ,  0.   , 23.091],\n",
       "       [50.   ,  1.   ,  1.   ,  0.   , 17.211],\n",
       "       [62.   ,  0.   ,  1.   ,  1.   , 16.594],\n",
       "       [41.   ,  0.   ,  2.   ,  0.   , 15.156],\n",
       "       [29.   ,  1.   ,  2.   ,  1.   , 29.45 ],\n",
       "       [42.   ,  1.   ,  0.   ,  0.   , 29.271],\n",
       "       [56.   ,  0.   ,  0.   ,  1.   , 15.015],\n",
       "       [36.   ,  0.   ,  0.   ,  0.   , 11.424],\n",
       "       [58.   ,  1.   ,  0.   ,  1.   , 38.247],\n",
       "       [56.   ,  1.   ,  2.   ,  1.   , 25.395],\n",
       "       [20.   ,  0.   ,  2.   ,  0.   , 35.639],\n",
       "       [15.   ,  1.   ,  2.   ,  0.   , 16.725],\n",
       "       [31.   ,  0.   ,  2.   ,  0.   , 11.871],\n",
       "       [45.   ,  1.   ,  2.   ,  1.   , 12.854],\n",
       "       [28.   ,  1.   ,  0.   ,  1.   , 13.127],\n",
       "       [56.   ,  0.   ,  1.   ,  1.   ,  8.966],\n",
       "       [22.   ,  0.   ,  2.   ,  0.   , 28.294],\n",
       "       [37.   ,  0.   ,  0.   ,  0.   ,  8.968],\n",
       "       [22.   ,  0.   ,  1.   ,  1.   , 11.953],\n",
       "       [42.   ,  0.   ,  0.   ,  1.   , 20.013],\n",
       "       [72.   ,  0.   ,  2.   ,  0.   ,  9.677],\n",
       "       [23.   ,  0.   ,  1.   ,  1.   , 16.85 ],\n",
       "       [50.   ,  0.   ,  2.   ,  1.   ,  7.49 ],\n",
       "       [47.   ,  1.   ,  1.   ,  0.   ,  6.683],\n",
       "       [35.   ,  0.   ,  0.   ,  0.   ,  9.17 ],\n",
       "       [65.   ,  1.   ,  0.   ,  0.   , 13.769],\n",
       "       [20.   ,  1.   ,  1.   ,  0.   ,  9.281],\n",
       "       [51.   ,  0.   ,  2.   ,  1.   , 18.295],\n",
       "       [67.   ,  0.   ,  1.   ,  0.   ,  9.514],\n",
       "       [40.   ,  1.   ,  1.   ,  1.   , 10.103],\n",
       "       [32.   ,  1.   ,  2.   ,  0.   , 10.292],\n",
       "       [61.   ,  1.   ,  2.   ,  1.   , 25.475],\n",
       "       [28.   ,  0.   ,  1.   ,  1.   , 27.064],\n",
       "       [15.   ,  0.   ,  2.   ,  0.   , 17.206],\n",
       "       [34.   ,  0.   ,  1.   ,  1.   , 22.456],\n",
       "       [36.   ,  1.   ,  1.   ,  1.   , 16.753],\n",
       "       [53.   ,  1.   ,  2.   ,  0.   , 12.495],\n",
       "       [19.   ,  1.   ,  2.   ,  0.   , 25.969],\n",
       "       [66.   ,  0.   ,  2.   ,  1.   , 16.347],\n",
       "       [35.   ,  0.   ,  1.   ,  0.   ,  7.845],\n",
       "       [47.   ,  0.   ,  0.   ,  0.   , 33.542],\n",
       "       [32.   ,  1.   ,  1.   ,  1.   ,  7.477],\n",
       "       [70.   ,  1.   ,  1.   ,  1.   , 20.489],\n",
       "       [52.   ,  0.   ,  0.   ,  0.   , 32.922],\n",
       "       [49.   ,  0.   ,  0.   ,  0.   , 13.598],\n",
       "       [24.   ,  0.   ,  1.   ,  1.   , 25.786],\n",
       "       [42.   ,  1.   ,  2.   ,  1.   , 21.036],\n",
       "       [74.   ,  0.   ,  0.   ,  0.   , 11.939],\n",
       "       [55.   ,  1.   ,  2.   ,  1.   , 10.977],\n",
       "       [35.   ,  1.   ,  2.   ,  1.   , 12.894],\n",
       "       [51.   ,  0.   ,  2.   ,  0.   , 11.343],\n",
       "       [69.   ,  1.   ,  1.   ,  1.   , 10.065],\n",
       "       [49.   ,  0.   ,  2.   ,  0.   ,  6.269],\n",
       "       [64.   ,  1.   ,  0.   ,  0.   , 25.741],\n",
       "       [60.   ,  0.   ,  2.   ,  0.   ,  8.621],\n",
       "       [74.   ,  0.   ,  2.   ,  0.   , 15.436],\n",
       "       [39.   ,  0.   ,  2.   ,  1.   ,  9.664],\n",
       "       [61.   ,  0.   ,  1.   ,  1.   ,  9.443],\n",
       "       [37.   ,  1.   ,  0.   ,  0.   , 12.006],\n",
       "       [26.   ,  1.   ,  2.   ,  0.   , 12.307],\n",
       "       [61.   ,  1.   ,  0.   ,  0.   ,  7.34 ],\n",
       "       [22.   ,  0.   ,  0.   ,  1.   ,  8.151],\n",
       "       [49.   ,  0.   ,  2.   ,  0.   ,  8.7  ],\n",
       "       [68.   ,  0.   ,  2.   ,  1.   , 11.009],\n",
       "       [55.   ,  0.   ,  1.   ,  0.   ,  7.261],\n",
       "       [72.   ,  1.   ,  0.   ,  0.   , 14.642],\n",
       "       [37.   ,  0.   ,  0.   ,  0.   , 16.724],\n",
       "       [49.   ,  0.   ,  0.   ,  1.   , 10.537],\n",
       "       [31.   ,  0.   ,  2.   ,  0.   , 11.227],\n",
       "       [53.   ,  0.   ,  0.   ,  1.   , 22.963],\n",
       "       [59.   ,  1.   ,  0.   ,  1.   , 10.444],\n",
       "       [34.   ,  1.   ,  0.   ,  0.   , 12.923],\n",
       "       [30.   ,  1.   ,  1.   ,  1.   , 10.443],\n",
       "       [57.   ,  1.   ,  2.   ,  0.   ,  9.945],\n",
       "       [43.   ,  0.   ,  1.   ,  0.   , 12.859],\n",
       "       [21.   ,  1.   ,  2.   ,  0.   , 28.632],\n",
       "       [16.   ,  0.   ,  2.   ,  0.   , 19.007],\n",
       "       [38.   ,  0.   ,  0.   ,  1.   , 18.295],\n",
       "       [58.   ,  1.   ,  0.   ,  1.   , 26.645],\n",
       "       [57.   ,  1.   ,  1.   ,  1.   , 14.216],\n",
       "       [51.   ,  1.   ,  0.   ,  0.   , 23.003],\n",
       "       [20.   ,  1.   ,  2.   ,  1.   , 11.262],\n",
       "       [28.   ,  1.   ,  1.   ,  1.   , 12.879],\n",
       "       [45.   ,  0.   ,  0.   ,  0.   , 10.017],\n",
       "       [39.   ,  1.   ,  1.   ,  0.   , 17.225],\n",
       "       [41.   ,  1.   ,  0.   ,  0.   , 18.739],\n",
       "       [42.   ,  0.   ,  2.   ,  0.   , 12.766],\n",
       "       [73.   ,  1.   ,  2.   ,  1.   , 18.348],\n",
       "       [48.   ,  0.   ,  2.   ,  0.   , 10.446],\n",
       "       [25.   ,  0.   ,  1.   ,  1.   , 19.011],\n",
       "       [39.   ,  0.   ,  1.   ,  1.   , 15.969],\n",
       "       [67.   ,  1.   ,  1.   ,  1.   , 15.891],\n",
       "       [22.   ,  1.   ,  2.   ,  0.   , 22.818],\n",
       "       [59.   ,  1.   ,  1.   ,  1.   , 13.884],\n",
       "       [20.   ,  1.   ,  0.   ,  0.   , 11.686],\n",
       "       [36.   ,  1.   ,  2.   ,  0.   , 15.49 ],\n",
       "       [18.   ,  1.   ,  2.   ,  1.   , 37.188],\n",
       "       [57.   ,  1.   ,  1.   ,  0.   , 25.893],\n",
       "       [70.   ,  0.   ,  2.   ,  1.   ,  9.849],\n",
       "       [47.   ,  0.   ,  2.   ,  1.   , 10.403],\n",
       "       [65.   ,  0.   ,  2.   ,  0.   , 34.997],\n",
       "       [64.   ,  0.   ,  2.   ,  0.   , 20.932],\n",
       "       [58.   ,  0.   ,  2.   ,  1.   , 18.991],\n",
       "       [23.   ,  0.   ,  2.   ,  1.   ,  8.011],\n",
       "       [72.   ,  0.   ,  0.   ,  1.   , 16.31 ],\n",
       "       [72.   ,  0.   ,  0.   ,  1.   ,  6.769],\n",
       "       [46.   ,  1.   ,  2.   ,  1.   , 34.686],\n",
       "       [56.   ,  1.   ,  0.   ,  1.   , 11.567],\n",
       "       [16.   ,  0.   ,  0.   ,  1.   , 12.006],\n",
       "       [52.   ,  0.   ,  1.   ,  1.   ,  9.894],\n",
       "       [23.   ,  0.   ,  1.   ,  0.   , 14.02 ],\n",
       "       [40.   ,  1.   ,  0.   ,  0.   , 11.349]])"
      ]
     },
     "execution_count": 36,
     "metadata": {},
     "output_type": "execute_result"
    }
   ],
   "source": [
    "X"
   ]
  },
  {
   "cell_type": "code",
   "execution_count": 37,
   "metadata": {},
   "outputs": [
    {
     "data": {
      "text/plain": [
       "array(['drugY', 'drugC', 'drugC', 'drugX', 'drugY', 'drugX', 'drugY',\n",
       "       'drugC', 'drugY', 'drugY', 'drugC', 'drugY', 'drugY', 'drugY',\n",
       "       'drugX', 'drugY', 'drugX', 'drugA', 'drugC', 'drugY', 'drugY',\n",
       "       'drugY', 'drugY', 'drugY', 'drugY', 'drugY', 'drugY', 'drugX',\n",
       "       'drugY', 'drugY', 'drugX', 'drugB', 'drugX', 'drugY', 'drugX',\n",
       "       'drugX', 'drugA', 'drugX', 'drugX', 'drugX', 'drugY', 'drugB',\n",
       "       'drugY', 'drugX', 'drugX', 'drugX', 'drugA', 'drugC', 'drugY',\n",
       "       'drugY', 'drugY', 'drugX', 'drugY', 'drugY', 'drugB', 'drugC',\n",
       "       'drugB', 'drugY', 'drugX', 'drugY', 'drugY', 'drugA', 'drugY',\n",
       "       'drugX', 'drugB', 'drugY', 'drugA', 'drugX', 'drugY', 'drugY',\n",
       "       'drugB', 'drugY', 'drugX', 'drugY', 'drugY', 'drugY', 'drugA',\n",
       "       'drugY', 'drugA', 'drugX', 'drugB', 'drugX', 'drugC', 'drugA',\n",
       "       'drugC', 'drugB', 'drugX', 'drugY', 'drugY', 'drugY', 'drugY',\n",
       "       'drugY', 'drugY', 'drugY', 'drugY', 'drugX', 'drugY', 'drugY',\n",
       "       'drugY', 'drugY', 'drugA', 'drugA', 'drugC', 'drugX', 'drugY',\n",
       "       'drugX', 'drugX', 'drugY', 'drugB', 'drugY', 'drugA', 'drugX',\n",
       "       'drugX', 'drugX', 'drugX', 'drugY', 'drugX', 'drugX', 'drugA',\n",
       "       'drugY', 'drugY', 'drugY', 'drugY', 'drugY', 'drugB', 'drugY',\n",
       "       'drugY', 'drugX', 'drugY', 'drugX', 'drugY', 'drugY', 'drugX',\n",
       "       'drugY', 'drugY', 'drugX', 'drugB', 'drugA', 'drugB', 'drugX',\n",
       "       'drugA', 'drugY', 'drugB', 'drugY', 'drugA', 'drugX', 'drugX',\n",
       "       'drugA', 'drugX', 'drugC', 'drugA', 'drugB', 'drugX', 'drugX',\n",
       "       'drugY', 'drugC', 'drugA', 'drugY', 'drugC', 'drugX', 'drugX',\n",
       "       'drugB', 'drugX', 'drugY', 'drugY', 'drugY', 'drugY', 'drugX',\n",
       "       'drugY', 'drugA', 'drugX', 'drugX', 'drugY', 'drugY', 'drugA',\n",
       "       'drugY', 'drugA', 'drugY', 'drugY', 'drugY', 'drugY', 'drugX',\n",
       "       'drugX', 'drugY', 'drugY', 'drugY', 'drugB', 'drugA', 'drugY',\n",
       "       'drugY', 'drugY', 'drugA', 'drugY', 'drugC', 'drugY', 'drugC',\n",
       "       'drugC', 'drugX', 'drugX', 'drugX'], dtype=object)"
      ]
     },
     "execution_count": 37,
     "metadata": {},
     "output_type": "execute_result"
    }
   ],
   "source": [
    "Y"
   ]
  },
  {
   "cell_type": "code",
   "execution_count": 38,
   "metadata": {},
   "outputs": [],
   "source": [
    "from sklearn.model_selection import train_test_split\n",
    "x_train, x_test, y_train, y_test = train_test_split(X,Y, test_size = 0.30, random_state = 5)\n"
   ]
  },
  {
   "cell_type": "code",
   "execution_count": 58,
   "metadata": {},
   "outputs": [
    {
     "data": {
      "text/plain": [
       "KNeighborsClassifier(n_neighbors=7)"
      ]
     },
     "execution_count": 58,
     "metadata": {},
     "output_type": "execute_result"
    }
   ],
   "source": [
    "from sklearn.neighbors import KNeighborsClassifier\n",
    "kn_classifier = KNeighborsClassifier(n_neighbors= 7) \n",
    "kn_classifier.fit(x_train,y_train)"
   ]
  },
  {
   "cell_type": "code",
   "execution_count": 59,
   "metadata": {},
   "outputs": [],
   "source": [
    "y_pred_train = kn_classifier.predict(x_train)"
   ]
  },
  {
   "cell_type": "code",
   "execution_count": 60,
   "metadata": {},
   "outputs": [],
   "source": [
    "y_pred_test= kn_classifier.predict(x_test)"
   ]
  },
  {
   "cell_type": "code",
   "execution_count": 61,
   "metadata": {},
   "outputs": [
    {
     "name": "stdout",
     "output_type": "stream",
     "text": [
      "Training accuracy : 0.7571428571428571\n",
      "Testing accuracy : 0.75\n"
     ]
    }
   ],
   "source": [
    "from sklearn.metrics import  accuracy_score\n",
    "print('Training accuracy :', accuracy_score(y_train,y_pred_train))\n",
    "print('Testing accuracy :', accuracy_score(y_test,y_pred_test))    "
   ]
  },
  {
   "cell_type": "code",
   "execution_count": 65,
   "metadata": {},
   "outputs": [],
   "source": [
    "from sklearn.metrics import confusion_matrix\n",
    "cm = confusion_matrix(y_test,y_pred_test)\n"
   ]
  },
  {
   "cell_type": "code",
   "execution_count": 66,
   "metadata": {},
   "outputs": [],
   "source": [
    "import itertools\n",
    "def plot_confusion_matrix(cm, classes,\n",
    "                          normalize=False,\n",
    "                          title='Confusion matrix',\n",
    "                          cmap=plt.cm.Blues):\n",
    "    \"\"\"\n",
    "    This function prints and plots the confusion matrix.\n",
    "    Normalization can be applied by setting `normalize=True`.\n",
    "    \"\"\"\n",
    "    plt.imshow(cm, interpolation='nearest', cmap=cmap)\n",
    "    plt.title(title)\n",
    "    plt.colorbar()\n",
    "    tick_marks = np.arange(len(classes))\n",
    "    plt.xticks(tick_marks, classes, rotation=30)\n",
    "    plt.yticks(tick_marks, classes)\n",
    "\n",
    "    if normalize:\n",
    "        cm = cm.astype('float') / cm.sum(axis=1)[:, np.newaxis]\n",
    "        print(\"Normalized confusion matrix\")\n",
    "    else:\n",
    "        print('Confusion matrix, without normalization')\n",
    "\n",
    "    #print(cm)\n",
    "\n",
    "    thresh = cm.max() / 2.\n",
    "    for i, j in itertools.product(range(cm.shape[0]), range(cm.shape[1])):\n",
    "        plt.text(j, i, cm[i, j],\n",
    "            horizontalalignment=\"center\",\n",
    "            color=\"white\" if cm[i, j] > thresh else \"black\")\n",
    "\n",
    "    plt.tight_layout()\n",
    "    plt.ylabel('True label')\n",
    "    plt.xlabel('Predicted label')"
   ]
  },
  {
   "cell_type": "code",
   "execution_count": 68,
   "metadata": {},
   "outputs": [
    {
     "name": "stdout",
     "output_type": "stream",
     "text": [
      "Confusion matrix, without normalization\n"
     ]
    },
    {
     "data": {
      "image/png": "[encoded data removed]",
      "text/plain": [
       "<Figure size 1200x800 with 2 Axes>"
      ]
     },
     "metadata": {
      "needs_background": "light"
     },
     "output_type": "display_data"
    }
   ],
   "source": [
    "classes = ['drugY','drugC','drugX', 'drugA','drugB']\n",
    "plt.figure(dpi = 200)\n",
    "plot_confusion_matrix(cm, classes)\n"
   ]
  },
  {
   "cell_type": "code",
   "execution_count": 69,
   "metadata": {},
   "outputs": [],
   "source": [
    "acc_train = []\n",
    "acc_test = []\n",
    "for i in range (1,21):\n",
    "    kn_classifier = KNeighborsClassifier(n_neighbors = i)\n",
    "    kn_classifier.fit(x_train, y_train)\n",
    "    y_pred_train = kn_classifier.predict(x_train)\n",
    "    y_pred_test = kn_classifier.predict(x_test)\n",
    "    acc_train.append(accuracy_score(y_train,y_pred_train))\n",
    "    acc_test.append(accuracy_score(y_test,y_pred_test))\n",
    "    "
   ]
  },
  {
   "cell_type": "code",
   "execution_count": 70,
   "metadata": {},
   "outputs": [
    {
     "data": {
      "text/plain": [
       "<matplotlib.legend.Legend at 0x238f8429790>"
      ]
     },
     "execution_count": 70,
     "metadata": {},
     "output_type": "execute_result"
    },
    {
     "data": {
      "image/png": "[encoded data removed]",
      "text/plain": [
       "<Figure size 432x288 with 1 Axes>"
      ]
     },
     "metadata": {
      "needs_background": "light"
     },
     "output_type": "display_data"
    }
   ],
   "source": [
    "x = list(range(1,21))\n",
    "plt.Figure(dpi =200)\n",
    "plt.plot(x,acc_train,label ='Training Accuracy')\n",
    "plt.plot(x,acc_test,label = 'Testing Accuracy')\n",
    "plt.xticks(range(1,21))\n",
    "plt.legend()"
   ]
  },
  {
   "cell_type": "code",
   "execution_count": null,
   "metadata": {},
   "outputs": [],
   "source": []
  }
 ],
 "metadata": {
  "interpreter": {
   "hash": "cb6bbd7367edc342baaacb096f42c8ae4c6c5c60100730d6778d531f77121479"
  },
  "kernelspec": {
   "display_name": "Python 3.9.10 64-bit (windows store)",
   "language": "python",
   "name": "python3"
  },
  "language_info": {
   "codemirror_mode": {
    "name": "ipython",
    "version": 3
   },
   "file_extension": ".py",
   "mimetype": "text/x-python",
   "name": "python",
   "nbconvert_exporter": "python",
   "pygments_lexer": "ipython3",
   "version": "3.9.10"
  },
  "orig_nbformat": 4
 },
 "nbformat": 4,
 "nbformat_minor": 2
}
